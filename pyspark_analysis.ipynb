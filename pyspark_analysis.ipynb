{
 "cells": [
  {
   "cell_type": "markdown",
   "id": "26d28387-d90f-473a-90bd-e1b68e86a66b",
   "metadata": {},
   "source": [
    "# Transaction Fraud Analysis\n",
    "\n",
    "Remember, the dataset can be downloaded at: https://www.kaggle.com/datasets/vardhansiramdasu/fraudulent-transactions-prediction\n",
    "\n",
    "## Exploratory Analysis:\n",
    "\n",
    "First, read the dataset into spark and check descriptive statistics"
   ]
  },
  {
   "cell_type": "markdown",
   "id": "2cca9e10-9d45-4c1e-b4e3-d1ae5b015e73",
   "metadata": {},
   "source": [
    "Notes from meeting:\n",
    "- Use Precision/Recall for metrics, not just high accuracy\n",
    "- Find feature importances -> factor into prediction, focus on interpretability\n",
    "- Use bucketing, not z-score to better deal with outliers in the dataset\n",
    "- Train/test split based on 'step' feature, train on earlier data, test with newer data\n",
    "- 'step' corresponds to an hour of a day - consider the time of day that the fraud occurs\n",
    "- Look into first character for nameOrig, determine if transaction originated from customer -> merchant, other way around"
   ]
  },
  {
   "cell_type": "code",
   "execution_count": 1,
   "id": "18104eb4-3880-4335-8f1c-59a768d6c826",
   "metadata": {},
   "outputs": [
    {
     "name": "stdout",
     "output_type": "stream",
     "text": [
      "root\n",
      " |-- step: integer (nullable = true)\n",
      " |-- type: string (nullable = true)\n",
      " |-- amount: double (nullable = true)\n",
      " |-- nameOrig: string (nullable = true)\n",
      " |-- oldbalanceOrg: double (nullable = true)\n",
      " |-- newbalanceOrig: double (nullable = true)\n",
      " |-- nameDest: string (nullable = true)\n",
      " |-- oldbalanceDest: double (nullable = true)\n",
      " |-- newbalanceDest: double (nullable = true)\n",
      " |-- isFraud: integer (nullable = true)\n",
      " |-- isFlaggedFraud: integer (nullable = true)\n",
      "\n"
     ]
    }
   ],
   "source": [
    "# imports, init SparkSession\n",
    "from pyspark.sql import SparkSession\n",
    "import pyspark.sql.functions as fn\n",
    "import pandas as pd, numpy as np\n",
    "import matplotlib.pyplot as plt\n",
    "%matplotlib inline\n",
    "\n",
    "spark = SparkSession.builder.master('local[2]').config(\"spark.executor.memory\", \"1g\").config(\"spark.driver.memory\", \"1g\").appName('fraud').getOrCreate()\n",
    "\n",
    "# read file intto pyspark dataframe\n",
    "df = spark.read.options(inferSchema = True).csv('Fraud.csv', header=True)\n",
    "df.printSchema()"
   ]
  },
  {
   "cell_type": "code",
   "execution_count": 3,
   "id": "538a60c5-d3e4-407b-910c-d7d1b529c642",
   "metadata": {},
   "outputs": [
    {
     "data": {
      "text/html": [
       "<div>\n",
       "<style scoped>\n",
       "    .dataframe tbody tr th:only-of-type {\n",
       "        vertical-align: middle;\n",
       "    }\n",
       "\n",
       "    .dataframe tbody tr th {\n",
       "        vertical-align: top;\n",
       "    }\n",
       "\n",
       "    .dataframe thead th {\n",
       "        text-align: right;\n",
       "    }\n",
       "</style>\n",
       "<table border=\"1\" class=\"dataframe\">\n",
       "  <thead>\n",
       "    <tr style=\"text-align: right;\">\n",
       "      <th></th>\n",
       "      <th>step</th>\n",
       "      <th>amount</th>\n",
       "      <th>oldbalanceOrg</th>\n",
       "      <th>newbalanceOrig</th>\n",
       "      <th>oldbalanceDest</th>\n",
       "      <th>newbalanceDest</th>\n",
       "      <th>isFraud</th>\n",
       "      <th>isFlaggedFraud</th>\n",
       "    </tr>\n",
       "  </thead>\n",
       "  <tbody>\n",
       "    <tr>\n",
       "      <th>count</th>\n",
       "      <td>6.362620e+06</td>\n",
       "      <td>6.362620e+06</td>\n",
       "      <td>6.362620e+06</td>\n",
       "      <td>6.362620e+06</td>\n",
       "      <td>6.362620e+06</td>\n",
       "      <td>6.362620e+06</td>\n",
       "      <td>6.362620e+06</td>\n",
       "      <td>6.362620e+06</td>\n",
       "    </tr>\n",
       "    <tr>\n",
       "      <th>mean</th>\n",
       "      <td>2.433972e+02</td>\n",
       "      <td>1.798619e+05</td>\n",
       "      <td>8.338831e+05</td>\n",
       "      <td>8.551137e+05</td>\n",
       "      <td>1.100702e+06</td>\n",
       "      <td>1.224996e+06</td>\n",
       "      <td>1.290820e-03</td>\n",
       "      <td>2.514687e-06</td>\n",
       "    </tr>\n",
       "    <tr>\n",
       "      <th>std</th>\n",
       "      <td>1.423320e+02</td>\n",
       "      <td>6.038582e+05</td>\n",
       "      <td>2.888243e+06</td>\n",
       "      <td>2.924049e+06</td>\n",
       "      <td>3.399180e+06</td>\n",
       "      <td>3.674129e+06</td>\n",
       "      <td>3.590480e-02</td>\n",
       "      <td>1.585775e-03</td>\n",
       "    </tr>\n",
       "    <tr>\n",
       "      <th>min</th>\n",
       "      <td>1.000000e+00</td>\n",
       "      <td>0.000000e+00</td>\n",
       "      <td>0.000000e+00</td>\n",
       "      <td>0.000000e+00</td>\n",
       "      <td>0.000000e+00</td>\n",
       "      <td>0.000000e+00</td>\n",
       "      <td>0.000000e+00</td>\n",
       "      <td>0.000000e+00</td>\n",
       "    </tr>\n",
       "    <tr>\n",
       "      <th>25%</th>\n",
       "      <td>1.560000e+02</td>\n",
       "      <td>1.338957e+04</td>\n",
       "      <td>0.000000e+00</td>\n",
       "      <td>0.000000e+00</td>\n",
       "      <td>0.000000e+00</td>\n",
       "      <td>0.000000e+00</td>\n",
       "      <td>0.000000e+00</td>\n",
       "      <td>0.000000e+00</td>\n",
       "    </tr>\n",
       "    <tr>\n",
       "      <th>50%</th>\n",
       "      <td>2.390000e+02</td>\n",
       "      <td>7.487194e+04</td>\n",
       "      <td>1.420800e+04</td>\n",
       "      <td>0.000000e+00</td>\n",
       "      <td>1.327057e+05</td>\n",
       "      <td>2.146614e+05</td>\n",
       "      <td>0.000000e+00</td>\n",
       "      <td>0.000000e+00</td>\n",
       "    </tr>\n",
       "    <tr>\n",
       "      <th>75%</th>\n",
       "      <td>3.350000e+02</td>\n",
       "      <td>2.087215e+05</td>\n",
       "      <td>1.073152e+05</td>\n",
       "      <td>1.442584e+05</td>\n",
       "      <td>9.430367e+05</td>\n",
       "      <td>1.111909e+06</td>\n",
       "      <td>0.000000e+00</td>\n",
       "      <td>0.000000e+00</td>\n",
       "    </tr>\n",
       "    <tr>\n",
       "      <th>max</th>\n",
       "      <td>7.430000e+02</td>\n",
       "      <td>9.244552e+07</td>\n",
       "      <td>5.958504e+07</td>\n",
       "      <td>4.958504e+07</td>\n",
       "      <td>3.560159e+08</td>\n",
       "      <td>3.561793e+08</td>\n",
       "      <td>1.000000e+00</td>\n",
       "      <td>1.000000e+00</td>\n",
       "    </tr>\n",
       "  </tbody>\n",
       "</table>\n",
       "</div>"
      ],
      "text/plain": [
       "               step        amount  oldbalanceOrg  newbalanceOrig  \\\n",
       "count  6.362620e+06  6.362620e+06   6.362620e+06    6.362620e+06   \n",
       "mean   2.433972e+02  1.798619e+05   8.338831e+05    8.551137e+05   \n",
       "std    1.423320e+02  6.038582e+05   2.888243e+06    2.924049e+06   \n",
       "min    1.000000e+00  0.000000e+00   0.000000e+00    0.000000e+00   \n",
       "25%    1.560000e+02  1.338957e+04   0.000000e+00    0.000000e+00   \n",
       "50%    2.390000e+02  7.487194e+04   1.420800e+04    0.000000e+00   \n",
       "75%    3.350000e+02  2.087215e+05   1.073152e+05    1.442584e+05   \n",
       "max    7.430000e+02  9.244552e+07   5.958504e+07    4.958504e+07   \n",
       "\n",
       "       oldbalanceDest  newbalanceDest       isFraud  isFlaggedFraud  \n",
       "count    6.362620e+06    6.362620e+06  6.362620e+06    6.362620e+06  \n",
       "mean     1.100702e+06    1.224996e+06  1.290820e-03    2.514687e-06  \n",
       "std      3.399180e+06    3.674129e+06  3.590480e-02    1.585775e-03  \n",
       "min      0.000000e+00    0.000000e+00  0.000000e+00    0.000000e+00  \n",
       "25%      0.000000e+00    0.000000e+00  0.000000e+00    0.000000e+00  \n",
       "50%      1.327057e+05    2.146614e+05  0.000000e+00    0.000000e+00  \n",
       "75%      9.430367e+05    1.111909e+06  0.000000e+00    0.000000e+00  \n",
       "max      3.560159e+08    3.561793e+08  1.000000e+00    1.000000e+00  "
      ]
     },
     "execution_count": 3,
     "metadata": {},
     "output_type": "execute_result"
    }
   ],
   "source": [
    "# Descriptive Statistics\n",
    "pandas_df = pd.read_csv('Fraud.csv')\n",
    "pandas_df.describe()"
   ]
  },
  {
   "cell_type": "code",
   "execution_count": 4,
   "id": "a2cd8639-1f54-4dcd-a431-ad424f9f8169",
   "metadata": {},
   "outputs": [
    {
     "data": {
      "text/html": [
       "<div>\n",
       "<style scoped>\n",
       "    .dataframe tbody tr th:only-of-type {\n",
       "        vertical-align: middle;\n",
       "    }\n",
       "\n",
       "    .dataframe tbody tr th {\n",
       "        vertical-align: top;\n",
       "    }\n",
       "\n",
       "    .dataframe thead th {\n",
       "        text-align: right;\n",
       "    }\n",
       "</style>\n",
       "<table border=\"1\" class=\"dataframe\">\n",
       "  <thead>\n",
       "    <tr style=\"text-align: right;\">\n",
       "      <th></th>\n",
       "      <th>step</th>\n",
       "      <th>type</th>\n",
       "      <th>amount</th>\n",
       "      <th>nameOrig</th>\n",
       "      <th>oldbalanceOrg</th>\n",
       "      <th>newbalanceOrig</th>\n",
       "      <th>nameDest</th>\n",
       "      <th>oldbalanceDest</th>\n",
       "      <th>newbalanceDest</th>\n",
       "      <th>isFraud</th>\n",
       "      <th>isFlaggedFraud</th>\n",
       "    </tr>\n",
       "  </thead>\n",
       "  <tbody>\n",
       "    <tr>\n",
       "      <th>0</th>\n",
       "      <td>1</td>\n",
       "      <td>PAYMENT</td>\n",
       "      <td>9839.64</td>\n",
       "      <td>C1231006815</td>\n",
       "      <td>170136.0</td>\n",
       "      <td>160296.36</td>\n",
       "      <td>M1979787155</td>\n",
       "      <td>0.0</td>\n",
       "      <td>0.0</td>\n",
       "      <td>0</td>\n",
       "      <td>0</td>\n",
       "    </tr>\n",
       "    <tr>\n",
       "      <th>1</th>\n",
       "      <td>1</td>\n",
       "      <td>PAYMENT</td>\n",
       "      <td>1864.28</td>\n",
       "      <td>C1666544295</td>\n",
       "      <td>21249.0</td>\n",
       "      <td>19384.72</td>\n",
       "      <td>M2044282225</td>\n",
       "      <td>0.0</td>\n",
       "      <td>0.0</td>\n",
       "      <td>0</td>\n",
       "      <td>0</td>\n",
       "    </tr>\n",
       "    <tr>\n",
       "      <th>2</th>\n",
       "      <td>1</td>\n",
       "      <td>TRANSFER</td>\n",
       "      <td>181.00</td>\n",
       "      <td>C1305486145</td>\n",
       "      <td>181.0</td>\n",
       "      <td>0.00</td>\n",
       "      <td>C553264065</td>\n",
       "      <td>0.0</td>\n",
       "      <td>0.0</td>\n",
       "      <td>1</td>\n",
       "      <td>0</td>\n",
       "    </tr>\n",
       "    <tr>\n",
       "      <th>3</th>\n",
       "      <td>1</td>\n",
       "      <td>CASH_OUT</td>\n",
       "      <td>181.00</td>\n",
       "      <td>C840083671</td>\n",
       "      <td>181.0</td>\n",
       "      <td>0.00</td>\n",
       "      <td>C38997010</td>\n",
       "      <td>21182.0</td>\n",
       "      <td>0.0</td>\n",
       "      <td>1</td>\n",
       "      <td>0</td>\n",
       "    </tr>\n",
       "    <tr>\n",
       "      <th>4</th>\n",
       "      <td>1</td>\n",
       "      <td>PAYMENT</td>\n",
       "      <td>11668.14</td>\n",
       "      <td>C2048537720</td>\n",
       "      <td>41554.0</td>\n",
       "      <td>29885.86</td>\n",
       "      <td>M1230701703</td>\n",
       "      <td>0.0</td>\n",
       "      <td>0.0</td>\n",
       "      <td>0</td>\n",
       "      <td>0</td>\n",
       "    </tr>\n",
       "  </tbody>\n",
       "</table>\n",
       "</div>"
      ],
      "text/plain": [
       "   step      type    amount     nameOrig  oldbalanceOrg  newbalanceOrig  \\\n",
       "0     1   PAYMENT   9839.64  C1231006815       170136.0       160296.36   \n",
       "1     1   PAYMENT   1864.28  C1666544295        21249.0        19384.72   \n",
       "2     1  TRANSFER    181.00  C1305486145          181.0            0.00   \n",
       "3     1  CASH_OUT    181.00   C840083671          181.0            0.00   \n",
       "4     1   PAYMENT  11668.14  C2048537720        41554.0        29885.86   \n",
       "\n",
       "      nameDest  oldbalanceDest  newbalanceDest  isFraud  isFlaggedFraud  \n",
       "0  M1979787155             0.0             0.0        0               0  \n",
       "1  M2044282225             0.0             0.0        0               0  \n",
       "2   C553264065             0.0             0.0        1               0  \n",
       "3    C38997010         21182.0             0.0        1               0  \n",
       "4  M1230701703             0.0             0.0        0               0  "
      ]
     },
     "execution_count": 4,
     "metadata": {},
     "output_type": "execute_result"
    }
   ],
   "source": [
    "pandas_df.head()"
   ]
  },
  {
   "cell_type": "markdown",
   "id": "7b605f41-a680-49ce-929e-ca79db1dacd9",
   "metadata": {},
   "source": [
    "### Steps with the most fraudulent charges:"
   ]
  },
  {
   "cell_type": "code",
   "execution_count": 5,
   "id": "4a71bd46-6bd6-4666-bb54-f413388ce43d",
   "metadata": {},
   "outputs": [
    {
     "name": "stdout",
     "output_type": "stream",
     "text": [
      "+----+------------+\n",
      "|step|sum(isFraud)|\n",
      "+----+------------+\n",
      "| 212|          40|\n",
      "| 523|          30|\n",
      "| 387|          28|\n",
      "| 730|          28|\n",
      "| 249|          28|\n",
      "| 501|          28|\n",
      "| 425|          28|\n",
      "| 398|          26|\n",
      "| 160|          26|\n",
      "| 694|          24|\n",
      "| 625|          24|\n",
      "|  66|          24|\n",
      "| 406|          24|\n",
      "|  22|          23|\n",
      "| 296|          22|\n",
      "| 149|          22|\n",
      "| 250|          22|\n",
      "| 279|          22|\n",
      "|  34|          22|\n",
      "| 262|          22|\n",
      "+----+------------+\n",
      "only showing top 20 rows\n",
      "\n"
     ]
    }
   ],
   "source": [
    "df.groupBy('step').agg({'isFraud':'sum'}).orderBy('sum(isFraud)', ascending=False).show()"
   ]
  },
  {
   "cell_type": "code",
   "execution_count": 6,
   "id": "39c5a5e2-8c16-4f7c-849a-8f03229a5253",
   "metadata": {},
   "outputs": [
    {
     "name": "stdout",
     "output_type": "stream",
     "text": [
      "+----+--------+--------+-----------+-------------+--------------+-----------+--------------+--------------+-------+--------------+\n",
      "|step|    type|  amount|   nameOrig|oldbalanceOrg|newbalanceOrig|   nameDest|oldbalanceDest|newbalanceDest|isFraud|isFlaggedFraud|\n",
      "+----+--------+--------+-----------+-------------+--------------+-----------+--------------+--------------+-------+--------------+\n",
      "|   1| PAYMENT| 9839.64|C1231006815|     170136.0|     160296.36|M1979787155|           0.0|           0.0|      0|             0|\n",
      "|   1| PAYMENT| 1864.28|C1666544295|      21249.0|      19384.72|M2044282225|           0.0|           0.0|      0|             0|\n",
      "|   1|TRANSFER|   181.0|C1305486145|        181.0|           0.0| C553264065|           0.0|           0.0|      1|             0|\n",
      "|   1|CASH_OUT|   181.0| C840083671|        181.0|           0.0|  C38997010|       21182.0|           0.0|      1|             0|\n",
      "|   1| PAYMENT|11668.14|C2048537720|      41554.0|      29885.86|M1230701703|           0.0|           0.0|      0|             0|\n",
      "+----+--------+--------+-----------+-------------+--------------+-----------+--------------+--------------+-------+--------------+\n",
      "only showing top 5 rows\n",
      "\n"
     ]
    }
   ],
   "source": [
    "df.show(5)"
   ]
  },
  {
   "cell_type": "markdown",
   "id": "7727d64f-e9f9-4a81-8f65-a315d1163d10",
   "metadata": {},
   "source": [
    "## Preprocessing -> dummy encodings"
   ]
  },
  {
   "cell_type": "code",
   "execution_count": 7,
   "id": "5161261b-5d72-44b1-b4d6-4cd3ec4636fe",
   "metadata": {},
   "outputs": [
    {
     "name": "stdout",
     "output_type": "stream",
     "text": [
      "+----+---------+-----------+-------------+--------------+-----------+--------------+--------------+-------+--------------+-------------+------------+---------+----------+\n",
      "|step|   amount|   nameOrig|oldbalanceOrg|newbalanceOrig|   nameDest|oldbalanceDest|newbalanceDest|isFraud|isFlaggedFraud|Cust_to_Merch|Cust_to_Cust|hourOfDay|trans_type|\n",
      "+----+---------+-----------+-------------+--------------+-----------+--------------+--------------+-------+--------------+-------------+------------+---------+----------+\n",
      "|   1|  9839.64|C1231006815|     170136.0|     160296.36|M1979787155|           0.0|           0.0|      0|             0|            1|           0|        1|         0|\n",
      "|   1|  1864.28|C1666544295|      21249.0|      19384.72|M2044282225|           0.0|           0.0|      0|             0|            1|           0|        1|         0|\n",
      "|   1|    181.0|C1305486145|        181.0|           0.0| C553264065|           0.0|           0.0|      1|             0|            0|           1|        1|         3|\n",
      "|   1|    181.0| C840083671|        181.0|           0.0|  C38997010|       21182.0|           0.0|      1|             0|            0|           1|        1|         1|\n",
      "|   1| 11668.14|C2048537720|      41554.0|      29885.86|M1230701703|           0.0|           0.0|      0|             0|            1|           0|        1|         0|\n",
      "|   1|  7817.71|  C90045638|      53860.0|      46042.29| M573487274|           0.0|           0.0|      0|             0|            1|           0|        1|         0|\n",
      "|   1|  7107.77| C154988899|     183195.0|     176087.23| M408069119|           0.0|           0.0|      0|             0|            1|           0|        1|         0|\n",
      "|   1|  7861.64|C1912850431|    176087.23|     168225.59| M633326333|           0.0|           0.0|      0|             0|            1|           0|        1|         0|\n",
      "|   1|  4024.36|C1265012928|       2671.0|           0.0|M1176932104|           0.0|           0.0|      0|             0|            1|           0|        1|         0|\n",
      "|   1|  5337.77| C712410124|      41720.0|      36382.23| C195600860|       41898.0|      40348.79|      0|             0|            0|           1|        1|         4|\n",
      "|   1|  9644.94|C1900366749|       4465.0|           0.0| C997608398|       10845.0|     157982.12|      0|             0|            0|           1|        1|         4|\n",
      "|   1|  3099.97| C249177573|      20771.0|      17671.03|M2096539129|           0.0|           0.0|      0|             0|            1|           0|        1|         0|\n",
      "|   1|  2560.74|C1648232591|       5070.0|       2509.26| M972865270|           0.0|           0.0|      0|             0|            1|           0|        1|         0|\n",
      "|   1| 11633.76|C1716932897|      10127.0|           0.0| M801569151|           0.0|           0.0|      0|             0|            1|           0|        1|         0|\n",
      "|   1|  4098.78|C1026483832|     503264.0|     499165.22|M1635378213|           0.0|           0.0|      0|             0|            1|           0|        1|         0|\n",
      "|   1|229133.94| C905080434|      15325.0|           0.0| C476402209|        5083.0|      51513.44|      0|             0|            0|           1|        1|         1|\n",
      "|   1|  1563.82| C761750706|        450.0|           0.0|M1731217984|           0.0|           0.0|      0|             0|            1|           0|        1|         0|\n",
      "|   1|  1157.86|C1237762639|      21156.0|      19998.14|M1877062907|           0.0|           0.0|      0|             0|            1|           0|        1|         0|\n",
      "|   1|   671.64|C2033524545|      15123.0|      14451.36| M473053293|           0.0|           0.0|      0|             0|            1|           0|        1|         0|\n",
      "|   1| 215310.3|C1670993182|        705.0|           0.0|C1100439041|       22425.0|           0.0|      0|             0|            0|           1|        1|         3|\n",
      "|   1|  1373.43|  C20804602|      13854.0|      12480.57|M1344519051|           0.0|           0.0|      0|             0|            1|           0|        1|         0|\n",
      "|   1|  9302.79|C1566511282|      11299.0|       1996.21|C1973538135|       29832.0|       16896.7|      0|             0|            0|           1|        1|         4|\n",
      "|   1|  1065.41|C1959239586|       1817.0|        751.59| C515132998|       10330.0|           0.0|      0|             0|            0|           1|        1|         4|\n",
      "|   1|  3876.41| C504336483|      67852.0|      63975.59|M1404932042|           0.0|           0.0|      0|             0|            1|           0|        1|         0|\n",
      "|   1|311685.89|C1984094095|      10835.0|           0.0| C932583850|        6267.0|    2719172.89|      0|             0|            0|           1|        1|         3|\n",
      "|   1|  6061.13|C1043358826|        443.0|           0.0|M1558079303|           0.0|           0.0|      0|             0|            1|           0|        1|         0|\n",
      "|   1|  9478.39|C1671590089|     116494.0|     107015.61|  M58488213|           0.0|           0.0|      0|             0|            1|           0|        1|         0|\n",
      "|   1|  8009.09|C1053967012|      10968.0|       2958.91| M295304806|           0.0|           0.0|      0|             0|            1|           0|        1|         0|\n",
      "|   1|  8901.99|C1632497828|      2958.91|           0.0|  M33419717|           0.0|           0.0|      0|             0|            1|           0|        1|         0|\n",
      "|   1|  9920.52| C764826684|          0.0|           0.0|M1940055334|           0.0|           0.0|      0|             0|            1|           0|        1|         0|\n",
      "|   1|  3448.92|C2103763750|          0.0|           0.0| M335107734|           0.0|           0.0|      0|             0|            1|           0|        1|         0|\n",
      "|   1|  4206.84| C215078753|          0.0|           0.0|M1757317128|           0.0|           0.0|      0|             0|            1|           0|        1|         0|\n",
      "|   1|  5885.56| C840514538|          0.0|           0.0|M1804441305|           0.0|           0.0|      0|             0|            1|           0|        1|         0|\n",
      "|   1|  5307.88|C1768242710|          0.0|           0.0|M1971783162|           0.0|           0.0|      0|             0|            1|           0|        1|         0|\n",
      "|   1|  5031.22| C247113419|          0.0|           0.0| M151442075|           0.0|           0.0|      0|             0|            1|           0|        1|         0|\n",
      "|   1| 24213.67|C1238616099|          0.0|           0.0|  M70695990|           0.0|           0.0|      0|             0|            1|           0|        1|         0|\n",
      "|   1|  8603.42|C1608633989|        253.0|           0.0|M1615617512|           0.0|           0.0|      0|             0|            1|           0|        1|         0|\n",
      "|   1|  2791.42| C923341586|     300481.0|     297689.58| M107994825|           0.0|           0.0|      0|             0|            1|           0|        1|         0|\n",
      "|   1|  7413.54|C1470868839|    297689.58|     290276.03|M1426725223|           0.0|           0.0|      0|             0|            1|           0|        1|         0|\n",
      "|   1|  3295.19| C711197015|     233633.0|     230337.81|M1384454980|           0.0|           0.0|      0|             0|            1|           0|        1|         0|\n",
      "|   1|  1684.81|C1481594086|        297.0|           0.0|M1569435561|           0.0|           0.0|      0|             0|            1|           0|        1|         0|\n",
      "|   1|  5758.59|C1466917878|      32604.0|      26845.41|C1297685781|      209699.0|      16997.22|      0|             0|            0|           1|        1|         4|\n",
      "|   1|110414.71| C768216420|     26845.41|           0.0|C1509514333|      288800.0|       2415.16|      0|             0|            0|           1|        1|         1|\n",
      "|   1|  7823.46| C260084831|        998.0|           0.0| M267814113|           0.0|           0.0|      0|             0|            1|           0|        1|         0|\n",
      "|   1|  5086.48| C598357562|          0.0|           0.0|M1593224710|           0.0|           0.0|      0|             0|            1|           0|        1|         0|\n",
      "|   1|  5281.48|C1440738283|     152019.0|     146737.52|M1849015357|           0.0|           0.0|      0|             0|            1|           0|        1|         0|\n",
      "|   1| 13875.98| C484199463|      15818.0|       1942.02|M2008106788|           0.0|           0.0|      0|             0|            1|           0|        1|         0|\n",
      "|   1|  56953.9|C1570470538|      1942.02|           0.0| C824009085|       70253.0|      64106.18|      0|             0|            0|           1|        1|         1|\n",
      "|   1|  5346.89| C512549200|          0.0|           0.0| C248609774|      652637.0|    6453430.91|      0|             0|            0|           1|        1|         1|\n",
      "|   1|  2204.04|C1615801298|        586.0|           0.0| M490391704|           0.0|           0.0|      0|             0|            1|           0|        1|         0|\n",
      "+----+---------+-----------+-------------+--------------+-----------+--------------+--------------+-------+--------------+-------------+------------+---------+----------+\n",
      "only showing top 50 rows\n",
      "\n"
     ]
    }
   ],
   "source": [
    "# flag transactions from customers to merchants, from customers to customers\n",
    "# Note: there are no transactions in the dataset originating from merchants!\n",
    "df1 = df.withColumn('orig_firstletter', df.nameOrig.substr(0,1))\n",
    "df1 = df1.withColumn('dest_firstletter', df.nameDest.substr(0,1))\n",
    "df1 = df1.withColumn('Cust_to_Merch', fn.when((df1.orig_firstletter == 'C') & (df1.dest_firstletter == 'M'), 1).otherwise(0))\n",
    "df1 = df1.withColumn('Cust_to_Cust', fn.when((df1.orig_firstletter == 'C') & (df1.dest_firstletter == 'C'), 1).otherwise(0))\n",
    "# drop intermediate columns\n",
    "df1 = df1.drop('orig_firstletter').drop('dest_firstletter')\n",
    "\n",
    "# account for hour of day from the 'step' feature\n",
    "df1 = df1.withColumn('hourOfDay', df1.step % 24)\n",
    "\n",
    "\n",
    "# bucketing: type feature\n",
    "# type = PAYMENT:  0\n",
    "# type = CASH_OUT: 1\n",
    "# type = CASH_IN:  2\n",
    "# type = TRANSFER: 3\n",
    "# type = DEBIT:    4\n",
    "df1 = df1.withColumn('trans_type', fn.when(df1.type == 'PAYMENT', 0)\n",
    "                    .when(df1.type == 'CASH_OUT', 1)\n",
    "                    .when(df1.type == 'CASH_IN', 2)\n",
    "                    .when(df1.type == 'TRANSFER', 3)\n",
    "                    .when(df1.type == 'DEBIT', 4)\n",
    "                    .otherwise(5)) # 5 denotes error, should be no 5's\n",
    "# drop original field\n",
    "df1 = df1.drop('type')\n",
    "\n",
    "# TODO: bucketing for oldbalanceOrig, newbalanceOrig, oldbalanceDest, newbalanceDest features\n",
    "\n",
    "\n",
    "\n",
    "df1.show(50)"
   ]
  },
  {
   "cell_type": "code",
   "execution_count": 8,
   "id": "29a0ba4f-d932-4cb0-a6b8-47f3501ee278",
   "metadata": {},
   "outputs": [
    {
     "name": "stdout",
     "output_type": "stream",
     "text": [
      "+-------------+-------+\n",
      "|Cust_to_Merch|  count|\n",
      "+-------------+-------+\n",
      "|            1|2151495|\n",
      "|            0|4211125|\n",
      "+-------------+-------+\n",
      "\n"
     ]
    }
   ],
   "source": [
    "df1.groupBy('Cust_to_Merch').count().show()"
   ]
  },
  {
   "cell_type": "code",
   "execution_count": 9,
   "id": "28e91449-7e56-4bcf-9196-f915ae8d5a09",
   "metadata": {},
   "outputs": [
    {
     "name": "stdout",
     "output_type": "stream",
     "text": [
      "+------------+-------+\n",
      "|Cust_to_Cust|  count|\n",
      "+------------+-------+\n",
      "|           1|4211125|\n",
      "|           0|2151495|\n",
      "+------------+-------+\n",
      "\n"
     ]
    }
   ],
   "source": [
    "df1.groupBy('Cust_to_Cust').count().show()"
   ]
  },
  {
   "cell_type": "code",
   "execution_count": 10,
   "id": "5724597f-8709-4337-b064-51636d2b3971",
   "metadata": {},
   "outputs": [
    {
     "name": "stdout",
     "output_type": "stream",
     "text": [
      "+--------+-------+\n",
      "|    type|  count|\n",
      "+--------+-------+\n",
      "|TRANSFER| 532909|\n",
      "| CASH_IN|1399284|\n",
      "|CASH_OUT|2237500|\n",
      "| PAYMENT|2151495|\n",
      "|   DEBIT|  41432|\n",
      "+--------+-------+\n",
      "\n"
     ]
    }
   ],
   "source": [
    "df.groupBy('type').count().show()"
   ]
  },
  {
   "cell_type": "code",
   "execution_count": 11,
   "id": "f8dc4f32-bf6a-4c44-a77d-e5ae9f78af99",
   "metadata": {},
   "outputs": [
    {
     "name": "stdout",
     "output_type": "stream",
     "text": [
      "+----------+-------+\n",
      "|trans_type|  count|\n",
      "+----------+-------+\n",
      "|         1|2237500|\n",
      "|         3| 532909|\n",
      "|         4|  41432|\n",
      "|         2|1399284|\n",
      "|         0|2151495|\n",
      "+----------+-------+\n",
      "\n"
     ]
    }
   ],
   "source": [
    "df1.groupBy('trans_type').count().show() # good, we didn't get any '5' fields here, values are consistent"
   ]
  },
  {
   "cell_type": "code",
   "execution_count": 13,
   "id": "72b74011-b9e0-4018-8bd6-5b8fdf72d007",
   "metadata": {},
   "outputs": [
    {
     "data": {
      "text/plain": [
       "['step',\n",
       " 'amount',\n",
       " 'nameOrig',\n",
       " 'oldbalanceOrg',\n",
       " 'newbalanceOrig',\n",
       " 'nameDest',\n",
       " 'oldbalanceDest',\n",
       " 'newbalanceDest',\n",
       " 'isFraud',\n",
       " 'isFlaggedFraud',\n",
       " 'Cust_to_Merch',\n",
       " 'Cust_to_Cust',\n",
       " 'hourOfDay',\n",
       " 'trans_type']"
      ]
     },
     "execution_count": 13,
     "metadata": {},
     "output_type": "execute_result"
    }
   ],
   "source": [
    "df1.columns"
   ]
  }
 ],
 "metadata": {
  "kernelspec": {
   "display_name": "Python 3 (ipykernel)",
   "language": "python",
   "name": "python3"
  },
  "language_info": {
   "codemirror_mode": {
    "name": "ipython",
    "version": 3
   },
   "file_extension": ".py",
   "mimetype": "text/x-python",
   "name": "python",
   "nbconvert_exporter": "python",
   "pygments_lexer": "ipython3",
   "version": "3.9.10"
  }
 },
 "nbformat": 4,
 "nbformat_minor": 5
}
